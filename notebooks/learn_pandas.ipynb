{
 "cells": [
  {
   "cell_type": "code",
   "execution_count": null,
   "metadata": {},
   "outputs": [],
   "source": [
    "import pandas as pd"
   ]
  },
  {
   "cell_type": "code",
   "execution_count": null,
   "metadata": {},
   "outputs": [],
   "source": [
    "reviews = pd.read_csv(\"../datasets/winemag-data-130k-v2.csv\", index_col=0)"
   ]
  },
  {
   "cell_type": "code",
   "execution_count": null,
   "metadata": {},
   "outputs": [],
   "source": [
    "pd.set_option(\"display.max_rows\", 5)"
   ]
  },
  {
   "cell_type": "code",
   "execution_count": null,
   "metadata": {},
   "outputs": [
    {
     "name": "stderr",
     "output_type": "stream",
     "text": [
      "<ipython-input-4-ceff87897738>:1: FutureWarning: The provided callable <built-in function min> is currently using SeriesGroupBy.min. In a future version of pandas, the provided callable will be used directly. To keep current behavior pass the string \"min\" instead.\n",
      "  reviews.groupby(['country']).price.agg([len, min, max])\n",
      "<ipython-input-4-ceff87897738>:1: FutureWarning: The provided callable <built-in function max> is currently using SeriesGroupBy.max. In a future version of pandas, the provided callable will be used directly. To keep current behavior pass the string \"max\" instead.\n",
      "  reviews.groupby(['country']).price.agg([len, min, max])\n"
     ]
    },
    {
     "data": {
      "application/vnd.microsoft.datawrangler.viewer.v0+json": {
       "columns": [
        {
         "name": "country",
         "rawType": "object",
         "type": "string"
        },
        {
         "name": "len",
         "rawType": "int64",
         "type": "integer"
        },
        {
         "name": "min",
         "rawType": "float64",
         "type": "float"
        },
        {
         "name": "max",
         "rawType": "float64",
         "type": "float"
        }
       ],
       "ref": "a41ff83f-74f1-4f00-afe1-3a13d986e7a1",
       "rows": [
        [
         "Argentina",
         "1907",
         "4.0",
         "230.0"
        ],
        [
         "Armenia",
         "1",
         "14.0",
         "14.0"
        ],
        [
         "Australia",
         "1177",
         "6.0",
         "850.0"
        ],
        [
         "Austria",
         "1635",
         "7.0",
         "150.0"
        ],
        [
         "Bosnia and Herzegovina",
         "1",
         "13.0",
         "13.0"
        ],
        [
         "Brazil",
         "31",
         "10.0",
         "45.0"
        ],
        [
         "Bulgaria",
         "68",
         "8.0",
         "55.0"
        ],
        [
         "Canada",
         "108",
         "12.0",
         "120.0"
        ],
        [
         "Chile",
         "2258",
         "5.0",
         "400.0"
        ],
        [
         "Croatia",
         "44",
         "13.0",
         "65.0"
        ],
        [
         "Cyprus",
         "6",
         "11.0",
         "21.0"
        ],
        [
         "Czech Republic",
         "6",
         "15.0",
         "45.0"
        ],
        [
         "England",
         "36",
         "25.0",
         "80.0"
        ],
        [
         "France",
         "11174",
         "5.0",
         "2500.0"
        ],
        [
         "Georgia",
         "37",
         "9.0",
         "40.0"
        ],
        [
         "Germany",
         "1051",
         "5.0",
         "775.0"
        ],
        [
         "Greece",
         "242",
         "8.0",
         "79.0"
        ],
        [
         "Hungary",
         "61",
         "10.0",
         "764.0"
        ],
        [
         "India",
         "4",
         "10.0",
         "20.0"
        ],
        [
         "Israel",
         "259",
         "8.0",
         "100.0"
        ],
        [
         "Italy",
         "10005",
         "5.0",
         "595.0"
        ],
        [
         "Lebanon",
         "20",
         "13.0",
         "75.0"
        ],
        [
         "Luxembourg",
         "4",
         "16.0",
         "30.0"
        ],
        [
         "Macedonia",
         "6",
         "15.0",
         "20.0"
        ],
        [
         "Mexico",
         "31",
         "8.0",
         "58.0"
        ],
        [
         "Moldova",
         "30",
         "8.0",
         "42.0"
        ],
        [
         "Morocco",
         "11",
         "14.0",
         "40.0"
        ],
        [
         "New Zealand",
         "733",
         "8.0",
         "120.0"
        ],
        [
         "Peru",
         "8",
         "10.0",
         "68.0"
        ],
        [
         "Portugal",
         "2963",
         "5.0",
         "1000.0"
        ],
        [
         "Romania",
         "67",
         "7.0",
         "100.0"
        ],
        [
         "Serbia",
         "7",
         "15.0",
         "40.0"
        ],
        [
         "Slovakia",
         "1",
         "16.0",
         "16.0"
        ],
        [
         "Slovenia",
         "39",
         "7.0",
         "60.0"
        ],
        [
         "South Africa",
         "737",
         "8.0",
         "330.0"
        ],
        [
         "Spain",
         "3409",
         "4.0",
         "770.0"
        ],
        [
         "Switzerland",
         "4",
         "30.0",
         "160.0"
        ],
        [
         "Turkey",
         "43",
         "15.0",
         "120.0"
        ],
        [
         "US",
         "27177",
         "4.0",
         "750.0"
        ],
        [
         "Ukraine",
         "5",
         "6.0",
         "10.0"
        ],
        [
         "Uruguay",
         "61",
         "10.0",
         "120.0"
        ]
       ],
       "shape": {
        "columns": 3,
        "rows": 41
       }
      },
      "text/html": [
       "<div>\n",
       "<style scoped>\n",
       "    .dataframe tbody tr th:only-of-type {\n",
       "        vertical-align: middle;\n",
       "    }\n",
       "\n",
       "    .dataframe tbody tr th {\n",
       "        vertical-align: top;\n",
       "    }\n",
       "\n",
       "    .dataframe thead th {\n",
       "        text-align: right;\n",
       "    }\n",
       "</style>\n",
       "<table border=\"1\" class=\"dataframe\">\n",
       "  <thead>\n",
       "    <tr style=\"text-align: right;\">\n",
       "      <th></th>\n",
       "      <th>len</th>\n",
       "      <th>min</th>\n",
       "      <th>max</th>\n",
       "    </tr>\n",
       "    <tr>\n",
       "      <th>country</th>\n",
       "      <th></th>\n",
       "      <th></th>\n",
       "      <th></th>\n",
       "    </tr>\n",
       "  </thead>\n",
       "  <tbody>\n",
       "    <tr>\n",
       "      <th>Argentina</th>\n",
       "      <td>1907</td>\n",
       "      <td>4.0</td>\n",
       "      <td>230.0</td>\n",
       "    </tr>\n",
       "    <tr>\n",
       "      <th>Armenia</th>\n",
       "      <td>1</td>\n",
       "      <td>14.0</td>\n",
       "      <td>14.0</td>\n",
       "    </tr>\n",
       "    <tr>\n",
       "      <th>...</th>\n",
       "      <td>...</td>\n",
       "      <td>...</td>\n",
       "      <td>...</td>\n",
       "    </tr>\n",
       "    <tr>\n",
       "      <th>Ukraine</th>\n",
       "      <td>5</td>\n",
       "      <td>6.0</td>\n",
       "      <td>10.0</td>\n",
       "    </tr>\n",
       "    <tr>\n",
       "      <th>Uruguay</th>\n",
       "      <td>61</td>\n",
       "      <td>10.0</td>\n",
       "      <td>120.0</td>\n",
       "    </tr>\n",
       "  </tbody>\n",
       "</table>\n",
       "<p>41 rows × 3 columns</p>\n",
       "</div>"
      ],
      "text/plain": [
       "            len   min    max\n",
       "country                     \n",
       "Argentina  1907   4.0  230.0\n",
       "Armenia       1  14.0   14.0\n",
       "...         ...   ...    ...\n",
       "Ukraine       5   6.0   10.0\n",
       "Uruguay      61  10.0  120.0\n",
       "\n",
       "[41 rows x 3 columns]"
      ]
     },
     "execution_count": 4,
     "metadata": {},
     "output_type": "execute_result"
    }
   ],
   "source": [
    "reviews.groupby(['country']).price.agg([len, min, max])"
   ]
  }
 ],
 "metadata": {
  "kernelspec": {
   "display_name": "Python 3 (ipykernel)",
   "language": "python",
   "name": "python3"
  },
  "language_info": {
   "codemirror_mode": {
    "name": "ipython",
    "version": 3
   },
   "file_extension": ".py",
   "mimetype": "text/x-python",
   "name": "python",
   "nbconvert_exporter": "python",
   "pygments_lexer": "ipython3",
   "version": "3.13.2"
  }
 },
 "nbformat": 4,
 "nbformat_minor": 4
}
